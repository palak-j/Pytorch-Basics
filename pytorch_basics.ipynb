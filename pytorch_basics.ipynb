{
 "cells": [
  {
   "cell_type": "markdown",
   "metadata": {},
   "source": [
    "### Pytorch\n",
    "\n",
    "#### Devloped by Facebook AI research lab (FAIR) in 2016\n",
    "#### PyTorch is an optimized tensor library primarily used for Deep Learning applications using GPUs and CPUs.\n",
    "#### Written in Python, CUDA, C++\n",
    "#### PyTorch is similar to NumPy in the way that it manages computations, but has a strong GPU support.\n",
    "#### "
   ]
  },
  {
   "cell_type": "markdown",
   "metadata": {},
   "source": [
    "### Tensors\n",
    "\n",
    "#### PyTorch is a library for processing tensors. A tensor is a fundamental unit of data. It can be a number, vector, matrix, or any n-dimensional array. It is similar to Numpy arrays.\n",
    "#### Tensors are multi-dimensional arrays with a uniform type (called a dtype). You can see all supported dtypes at tf.dtypes.DType.\n",
    "#### Tensors are (kind of) like np.arrays.\n",
    "#### All tensors are immutable like Python numbers and strings: you can never update the contents of a tensor, only create a new one."
   ]
  },
  {
   "cell_type": "code",
   "execution_count": 5,
   "metadata": {},
   "outputs": [],
   "source": [
    "import torch\n",
    "import numpy as np"
   ]
  },
  {
   "cell_type": "code",
   "execution_count": 6,
   "metadata": {},
   "outputs": [
    {
     "data": {
      "text/plain": [
       "'1.8.1'"
      ]
     },
     "execution_count": 6,
     "metadata": {},
     "output_type": "execute_result"
    }
   ],
   "source": [
    "## Check version of torch\n",
    "torch.__version__"
   ]
  },
  {
   "cell_type": "code",
   "execution_count": 11,
   "metadata": {},
   "outputs": [
    {
     "data": {
      "text/plain": [
       "array([1, 2, 3, 4, 5, 7, 8, 2, 9])"
      ]
     },
     "execution_count": 11,
     "metadata": {},
     "output_type": "execute_result"
    }
   ],
   "source": [
    "lst=[1,2,3,4,5,7,8,2,9]\n",
    "arr=np.array(lst)\n",
    "arr                 #Here datatype is array"
   ]
  },
  {
   "cell_type": "code",
   "execution_count": 20,
   "metadata": {},
   "outputs": [
    {
     "data": {
      "text/plain": [
       "tensor([[0., 0., 0.],\n",
       "        [0., 0., 0.]], dtype=torch.float64)"
      ]
     },
     "execution_count": 20,
     "metadata": {},
     "output_type": "execute_result"
    }
   ],
   "source": [
    "## Create Tensors\n",
    "\n",
    "torch.zeros(2,3, dtype=torch.float64)"
   ]
  },
  {
   "cell_type": "code",
   "execution_count": 21,
   "metadata": {},
   "outputs": [
    {
     "data": {
      "text/plain": [
       "tensor([[1., 1., 1.],\n",
       "        [1., 1., 1.]], dtype=torch.float64)"
      ]
     },
     "execution_count": 21,
     "metadata": {},
     "output_type": "execute_result"
    }
   ],
   "source": [
    "torch.ones(2,3, dtype=torch.float64)"
   ]
  },
  {
   "cell_type": "code",
   "execution_count": 22,
   "metadata": {},
   "outputs": [],
   "source": [
    "tens = torch.tensor([2,6,4,7,8], dtype=torch.float)"
   ]
  },
  {
   "cell_type": "code",
   "execution_count": null,
   "metadata": {},
   "outputs": [],
   "source": []
  },
  {
   "cell_type": "code",
   "execution_count": 19,
   "metadata": {},
   "outputs": [
    {
     "name": "stdout",
     "output_type": "stream",
     "text": [
      "tensor([1, 2, 3, 4, 5, 7, 8, 2, 9], dtype=torch.int32)\n",
      "tensor([1, 2, 3, 4, 5, 7, 8, 2, 9], dtype=torch.int32)\n"
     ]
    }
   ],
   "source": [
    "## Convert numpy array to pytorch tensors\n",
    "\n",
    "tensors=torch.from_numpy(arr)\n",
    "print(tensors)             #Here datatype is torch tensor\n",
    "\n",
    "## OR\n",
    "\n",
    "tensors_1 = torch.tensor(arr)\n",
    "print(tensors_1)\n",
    "\n",
    "## Difference between both methods is:\n",
    "## from_numpy tensor and arr will have the same memory location. So if I make any changes in tensor, original array will also change.\n",
    "## torch.tensor will make copy of the original array and it will not affect the original one."
   ]
  },
  {
   "cell_type": "code",
   "execution_count": 15,
   "metadata": {},
   "outputs": [
    {
     "name": "stdout",
     "output_type": "stream",
     "text": [
      "tensor(7, dtype=torch.int32)\n",
      "tensor([3, 4, 5, 7, 8, 2], dtype=torch.int32)\n"
     ]
    }
   ],
   "source": [
    "#In tensors, we can access any element similar to numpy.\n",
    "# For example:\n",
    "\n",
    "print(tensors[5])           #Element at specific index\n",
    "print(tensors[2:8])         #Slicing"
   ]
  },
  {
   "cell_type": "code",
   "execution_count": null,
   "metadata": {},
   "outputs": [],
   "source": []
  },
  {
   "cell_type": "code",
   "execution_count": 23,
   "metadata": {},
   "outputs": [],
   "source": [
    "## Arithmetic Operation"
   ]
  },
  {
   "cell_type": "code",
   "execution_count": 27,
   "metadata": {},
   "outputs": [
    {
     "name": "stdout",
     "output_type": "stream",
     "text": [
      "tensor([ 6., 13.,  9.])\n",
      "tensor([ 6., 13.,  9.])\n",
      "tensor([ 6., 13.,  9.])\n"
     ]
    }
   ],
   "source": [
    "a = torch.tensor([1,5,7], dtype=torch.float)\n",
    "b = torch.tensor([5,8,2], dtype=torch.float)\n",
    "print(a + b)\n",
    "\n",
    "## or\n",
    "\n",
    "print(torch.add(a,b))\n",
    "\n",
    "c=torch.zeros(3)\n",
    "\n",
    "torch.add(a,b,out=c)      # This will store output in c variable. It should be of the same dimension as expected output.\n",
    "\n",
    "print(c)"
   ]
  },
  {
   "cell_type": "code",
   "execution_count": 29,
   "metadata": {},
   "outputs": [
    {
     "data": {
      "text/plain": [
       "tensor(28.)"
      ]
     },
     "execution_count": 29,
     "metadata": {},
     "output_type": "execute_result"
    }
   ],
   "source": [
    "c.sum()            # Sum of all elements"
   ]
  },
  {
   "cell_type": "code",
   "execution_count": 30,
   "metadata": {},
   "outputs": [
    {
     "data": {
      "text/plain": [
       "tensor([ 5., 40., 14.])"
      ]
     },
     "execution_count": 30,
     "metadata": {},
     "output_type": "execute_result"
    }
   ],
   "source": [
    "a.mul(b)           # Normal Multiplication of elements of two tensors"
   ]
  },
  {
   "cell_type": "code",
   "execution_count": 31,
   "metadata": {},
   "outputs": [
    {
     "data": {
      "text/plain": [
       "tensor(59.)"
      ]
     },
     "execution_count": 31,
     "metadata": {},
     "output_type": "execute_result"
    }
   ],
   "source": [
    "a.dot(b)            # Dot product of two tensors"
   ]
  },
  {
   "cell_type": "code",
   "execution_count": 32,
   "metadata": {},
   "outputs": [
    {
     "data": {
      "text/plain": [
       "tensor(59.)"
      ]
     },
     "execution_count": 32,
     "metadata": {},
     "output_type": "execute_result"
    }
   ],
   "source": [
    "a@b"
   ]
  },
  {
   "cell_type": "code",
   "execution_count": 34,
   "metadata": {},
   "outputs": [],
   "source": [
    "## For two dimensional tensors Matrix Multiplication"
   ]
  },
  {
   "cell_type": "code",
   "execution_count": 35,
   "metadata": {},
   "outputs": [],
   "source": [
    "a = torch.tensor([[2,5,3],[6,3,8]], dtype=torch.float)\n",
    "b = torch.tensor([[2,5],[6,4],[1,9]], dtype=torch.float)"
   ]
  },
  {
   "cell_type": "code",
   "execution_count": 37,
   "metadata": {},
   "outputs": [
    {
     "name": "stdout",
     "output_type": "stream",
     "text": [
      "tensor([[ 37.,  57.],\n",
      "        [ 38., 114.]])\n",
      "tensor([[ 37.,  57.],\n",
      "        [ 38., 114.]])\n",
      "tensor([[ 37.,  57.],\n",
      "        [ 38., 114.]])\n"
     ]
    }
   ],
   "source": [
    "print(torch.matmul(a,b))\n",
    "\n",
    "## OR\n",
    "\n",
    "print(torch.mm(a,b))\n",
    "\n",
    "## OR\n",
    "\n",
    "print(a@b)"
   ]
  },
  {
   "cell_type": "code",
   "execution_count": null,
   "metadata": {},
   "outputs": [],
   "source": []
  }
 ],
 "metadata": {
  "kernelspec": {
   "display_name": "Python 3",
   "language": "python",
   "name": "python3"
  },
  "language_info": {
   "codemirror_mode": {
    "name": "ipython",
    "version": 3
   },
   "file_extension": ".py",
   "mimetype": "text/x-python",
   "name": "python",
   "nbconvert_exporter": "python",
   "pygments_lexer": "ipython3",
   "version": "3.8.5"
  }
 },
 "nbformat": 4,
 "nbformat_minor": 4
}
